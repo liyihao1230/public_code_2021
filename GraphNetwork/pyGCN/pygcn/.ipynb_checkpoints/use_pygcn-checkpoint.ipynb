{
 "cells": [
  {
   "cell_type": "code",
   "execution_count": null,
   "id": "alpha-correlation",
   "metadata": {},
   "outputs": [],
   "source": [
    "import pygcn"
   ]
  },
  {
   "cell_type": "code",
   "execution_count": null,
   "id": "inappropriate-imaging",
   "metadata": {},
   "outputs": [],
   "source": [
    "pygcn.load_data()"
   ]
  },
  {
   "cell_type": "code",
   "execution_count": null,
   "id": "academic-combination",
   "metadata": {},
   "outputs": [],
   "source": []
  }
 ],
 "metadata": {
  "kernelspec": {
   "display_name": "Python [conda env:size_env_1.0]",
   "language": "python",
   "name": "conda-env-size_env_1.0-py"
  },
  "language_info": {
   "codemirror_mode": {
    "name": "ipython",
    "version": 3
   },
   "file_extension": ".py",
   "mimetype": "text/x-python",
   "name": "python",
   "nbconvert_exporter": "python",
   "pygments_lexer": "ipython3",
   "version": "3.7.8"
  }
 },
 "nbformat": 4,
 "nbformat_minor": 5
}
